{
 "cells": [
  {
   "cell_type": "markdown",
   "metadata": {},
   "source": [
    "# DeepSeek AI Exploration Project\n",
    "\n",
    "## Project Overview\n",
    "This notebook demonstrates the capabilities of the DeepSeek-R1 model using NVIDIA AI Enterprise's LangChain integration."
   ]
  },
  {
   "cell_type": "markdown",
   "metadata": {},
   "source": [
    "## Setup and Configuration\n",
    "Install required dependencies and import necessary libraries."
   ]
  },
  {
   "cell_type": "code",
   "execution_count": null,
   "metadata": {},
   "outputs": [],
   "source": [
    "# Install required packages\n",
    "!pip install langchain-nvidia-ai-endpoints"
   ]
  },
  {
   "cell_type": "code",
   "execution_count": null,
   "metadata": {},
   "outputs": [],
   "source": [
    "from langchain_nvidia_ai_endpoints import ChatNVIDIA\n",
    "import os"
   ]
  },
  {
   "cell_type": "markdown",
   "metadata": {},
   "source": [
    "### API Key Configuration\n",
    "Note: Securely manage your API key. It's recommended to use environment variables."
   ]
  },
  {
   "cell_type": "code",
   "execution_count": null,
   "metadata": {},
   "outputs": [],
   "source": [
    "# Option 1: Set API key directly (not recommended for production)\n",
    "# api_key = 'your_api_key_here'\n",
    "\n",
    "# Option 2: Use environment variable (recommended)\n",
    "api_key = os.environ.get('NVIDIA_API_KEY')\n",
    "\n",
    "# Initialize the ChatNVIDIA client\n",
    "client = ChatNVIDIA(\n",
    "    model=\"deepseek-ai/deepseek-r1\",\n",
    "    api_key=api_key,\n",
    "    temperature=0.6,\n",
    "    top_p=0.7,\n",
    "    max_tokens=4096\n",
    ")"
   ]
  },
  {
   "cell_type": "markdown",
   "metadata": {},
   "source": [
    "## Model Interaction Examples"
   ]
  },
  {
   "cell_type": "code",
   "execution_count": null,
   "metadata": {},
   "outputs": [],
   "source": [
    "# Simple Comparison Example\n",
    "def compare_numbers():\n",
    "    print(\"Comparing 9.11 and 9.8:\")\n",
    "    for chunk in client.stream([{\"role\":\"user\",\"content\":\"Which number is larger, 9.11 or 9.8?\"}]):\n",
    "        print(chunk.content, end=\"\")\n",
    "\n",
    "compare_numbers()"
   ]
  },
  {
   "cell_type": "markdown",
   "metadata": {},
   "source": [
    "## Troubleshooting\n",
    "If the API key does not work, the notebook will still demonstrate the code structure and approach."
   ]
  }
 ],
 "metadata": {
  "kernelspec": {
   "display_name": "Python 3",
   "language": "python",
   "name": "python3"
  },
  "language_info": {
   "name": "python",
   "version": "3.8.5"
  }
 },
 "nbformat": 4,
 "nbformat_minor": 4
}
